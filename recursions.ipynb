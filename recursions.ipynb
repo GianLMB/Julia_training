{
 "cells": [
  {
   "cell_type": "code",
   "execution_count": null,
   "metadata": {},
   "outputs": [],
   "source": [
    "# Factorials\n",
    "\n",
    "function fact(n)\n",
    "    if n <= 1\n",
    "        return 1\n",
    "    end\n",
    "    return n*fact(n-1)\n",
    "end"
   ]
  },
  {
   "cell_type": "code",
   "execution_count": null,
   "metadata": {},
   "outputs": [],
   "source": [
    "# Fibonacci\n",
    "\n",
    "function fibo(n)\n",
    "    if n <= 2\n",
    "        return 1\n",
    "    end\n",
    "    return fibo(n-1) + fibo(n-2)\n",
    "end"
   ]
  },
  {
   "cell_type": "code",
   "execution_count": null,
   "metadata": {},
   "outputs": [],
   "source": [
    "# Example 4: Maximum subarray\n",
    "\n",
    "function maxsub(v)\n",
    "    n = length(v)\n",
    "    L = v[1]\n",
    "    M = L\n",
    "    for j = 2:n\n",
    "        L = max(L+v[j], v[j])\n",
    "        M = max(L,M)\n",
    "    end\n",
    "    return M\n",
    "end"
   ]
  },
  {
   "cell_type": "code",
   "execution_count": null,
   "metadata": {},
   "outputs": [],
   "source": [
    "# Hanoi towers\n",
    "\n",
    "function hanoi(n, a = \"A\", b = \"B\", c = \"C\")\n",
    "    if n == 0\n",
    "        return\n",
    "    end\n",
    "    hanoi(n-1, a, c, b)\n",
    "    println(\"$a -> $c\")\n",
    "    hanoi(n-1, b, a, c)\n",
    "end"
   ]
  },
  {
   "cell_type": "code",
   "execution_count": null,
   "metadata": {},
   "outputs": [],
   "source": [
    "# Mergesort\n",
    "\n",
    "function mergesort(a)\n",
    "    n = length(a)\n",
    "    m = div(n,2)\n",
    "    m == 0 && return\n",
    "    al = a[1:m]\n",
    "    ar = a[m+1:end]\n",
    "    margesort(al)\n",
    "    mergesort(ar)\n",
    "    i,j = 1,1\n",
    "    for k in 1:n\n",
    "        if j > n-m || (i <= m && al[i] < ar[j])\n",
    "            a[k] = al[i]\n",
    "            i += 1\n",
    "        else\n",
    "            a[k] = ar[j]\n",
    "            j += 1\n",
    "        end\n",
    "    end\n",
    "end"
   ]
  },
  {
   "cell_type": "code",
   "execution_count": 1,
   "metadata": {},
   "outputs": [
    {
     "data": {
      "text/plain": [
       "qsort (generic function with 1 method)"
      ]
     },
     "execution_count": 1,
     "metadata": {},
     "output_type": "execute_result"
    }
   ],
   "source": [
    "# Quicksort (with a[1] as pivot)\n",
    "\n",
    "qsort(a) = isempty(a) ? copy(a) : vcat(qsort([x for x in a[2:end]    \n",
    "    if x < a[1]]), a[1], qsort([x for x in a[2:end] if x >= a[1]]))\n",
    "\n",
    "# condition ? state1 : state2  == if ... do ..., else ..."
   ]
  },
  {
   "cell_type": "code",
   "execution_count": 1,
   "metadata": {},
   "outputs": [
    {
     "data": {
      "text/plain": [
       "quicksort (generic function with 1 method)"
      ]
     },
     "execution_count": 1,
     "metadata": {},
     "output_type": "execute_result"
    }
   ],
   "source": [
    "# Random Quicksort \n",
    "\n",
    "function quicksort(v)\n",
    "    if length(v) <= 1\n",
    "        return copy(v)\n",
    "    end\n",
    "    r = rand(1:length(v))\n",
    "    v[1], v[r] = v[r], v[1]\n",
    "    L = [v[j] for j = 2:length(v) if v[j] <= v[1]]\n",
    "    R = [v[j] for j = 2:length(v) if v[j] > v[1]]\n",
    "    [quicksort(L); v[1]; quicksort(R)]\n",
    "end"
   ]
  },
  {
   "cell_type": "code",
   "execution_count": 6,
   "metadata": {},
   "outputs": [
    {
     "data": {
      "text/plain": [
       "FiboSequence (generic function with 2 methods)"
      ]
     },
     "execution_count": 6,
     "metadata": {},
     "output_type": "execute_result"
    }
   ],
   "source": [
    "# Fibonacci + dictionary (dynamic programming)\n",
    "\n",
    "function FiboSequence()\n",
    "    D = Dict()\n",
    "    function fibo(n)\n",
    "        if haskey(D,n)\n",
    "            return D[n]\n",
    "        end\n",
    "        n <= 1 && return big(1)       # if ... then ...\n",
    "        r = fibo(n-1) + fibo(n-2)\n",
    "        D[n] = r\n",
    "        return r\n",
    "    end\n",
    "end       "
   ]
  },
  {
   "cell_type": "code",
   "execution_count": 3,
   "metadata": {},
   "outputs": [
    {
     "data": {
      "text/plain": [
       "g (generic function with 1 method)"
      ]
     },
     "execution_count": 3,
     "metadata": {},
     "output_type": "execute_result"
    }
   ],
   "source": [
    "# One element double than another\n",
    "\n",
    "function f(v)\n",
    "    for i = 1:length(v)\n",
    "        for j = 1:length(v)\n",
    "            if v[i] == 2v[j]\n",
    "                return v[i],v[j]\n",
    "            end\n",
    "        end\n",
    "    end\n",
    "    return \"not found\"\n",
    "end\n",
    "# O(n^2)\n",
    "\n",
    "\n",
    "function g(v)\n",
    "    v = sort(v)\n",
    "    n = length(v)\n",
    "    j = 1\n",
    "    for i = 1:n\n",
    "        while v[j] < 2v[i] && j < n   # two loops, but j always increasing, so it's not O(n^2)\n",
    "            j += 1\n",
    "        end\n",
    "        if v[j] == 2v[i]\n",
    "            return v[i], v[j]\n",
    "        end\n",
    "    end\n",
    "    return \"not found\"\n",
    "end\n",
    "# O(nlog(n)) for the sorting      "
   ]
  },
  {
   "cell_type": "code",
   "execution_count": 4,
   "metadata": {},
   "outputs": [
    {
     "data": {
      "text/plain": [
       "nchange (generic function with 1 method)"
      ]
     },
     "execution_count": 4,
     "metadata": {},
     "output_type": "execute_result"
    }
   ],
   "source": [
    "# Change problem\n",
    "\n",
    "function nchange(C,v)\n",
    "    D = Dict()    \n",
    "    function N(C)\n",
    "        C < 0 && return Inf\n",
    "        C == 0 && return 0\n",
    "        haskey(D,C) && return D[C]\n",
    "        D[C] = 1 + minimum(N(C-x) for x in v)\n",
    "    end   \n",
    "    N(C)\n",
    "end"
   ]
  },
  {
   "cell_type": "code",
   "execution_count": 28,
   "metadata": {},
   "outputs": [
    {
     "data": {
      "text/plain": [
       "change (generic function with 1 method)"
      ]
     },
     "execution_count": 28,
     "metadata": {},
     "output_type": "execute_result"
    }
   ],
   "source": [
    "# return also the frequency of coins\n",
    "\n",
    "function change(C,v)\n",
    "    n = length(v)\n",
    "    l = fill(0,n)\n",
    "    a = zeros(n)\n",
    "    while C > 0\n",
    "        for j = 1:n\n",
    "            a[j] = nchange(C-v[j],v)\n",
    "        end\n",
    "        i = argmin(a)\n",
    "        l[i] += 1\n",
    "        C -= v[i]\n",
    "    end\n",
    "    l\n",
    "end"
   ]
  },
  {
   "cell_type": "code",
   "execution_count": 30,
   "metadata": {},
   "outputs": [
    {
     "data": {
      "text/plain": [
       "5-element Array{Int64,1}:\n",
       " 0\n",
       " 0\n",
       " 0\n",
       " 1\n",
       " 2"
      ]
     },
     "execution_count": 30,
     "metadata": {},
     "output_type": "execute_result"
    }
   ],
   "source": [
    "change(14,[1,2,3,4,5])"
   ]
  },
  {
   "cell_type": "code",
   "execution_count": 7,
   "metadata": {},
   "outputs": [
    {
     "data": {
      "text/plain": [
       "MSconvolution (generic function with 1 method)"
      ]
     },
     "execution_count": 7,
     "metadata": {},
     "output_type": "execute_result"
    }
   ],
   "source": [
    "# convolution implementation\n",
    "\n",
    "using OffsetArrays     # arrays start from index 0\n",
    "\n",
    "\n",
    "# standard convolution for discrete functions\n",
    "\n",
    "function convolution(f1,f2)\n",
    "    f3 = fill(0.0, 0:lastindex(f1)+lastindex(f2))\n",
    "    for x1 ∈ eachindex(f1)\n",
    "        for x2 ∈ eachindex(f2)\n",
    "            f3[x1+x2] += f1[x1]+f2[x2]\n",
    "        end\n",
    "    end\n",
    "    f3\n",
    "end\n",
    "\n",
    "\n",
    "# max sum convolution\n",
    "\n",
    "function MSconvolution(f1,f2)\n",
    "    f3 = fill(-Inf, 0:lastindex(f1)+lastindex(f2))\n",
    "    for x1 ∈ eachindex(f1)\n",
    "        for x2 ∈ eachindex(f2)\n",
    "            f3[x1+x2] = maximum(f3[x1+x2], f1[x1]+f2[x2])\n",
    "        end\n",
    "    end\n",
    "    f3\n",
    "end"
   ]
  },
  {
   "cell_type": "code",
   "execution_count": 9,
   "metadata": {},
   "outputs": [
    {
     "data": {
      "text/plain": [
       "7"
      ]
     },
     "execution_count": 9,
     "metadata": {},
     "output_type": "execute_result"
    }
   ],
   "source": [
    "# Edit distance problem\n",
    "\n",
    "#recursive algorithm\n",
    "function L(s,t)\n",
    "    D = Dict()\n",
    "    function _L(s,t)\n",
    "        isempty(s) && return length(t)\n",
    "        isempty(t) && return length(s)\n",
    "        haskey(D, (s,t)) && return D[(s,t)]\n",
    "        D[(s,t)] = min((s[end] != t[end]) + _L(s[1:end-1],t[1:end-1]),\n",
    "            1 + _L(s[1:end-1],t),\n",
    "            1 + _L(s,t[1:end-1]))\n",
    "    end\n",
    "    _L(s,t)\n",
    "end\n",
    "\n",
    "# non recursive algorithm (preallocated matrix)\n",
    "function L2(s,t)\n",
    "    k, n = length(s), length(t)\n",
    "    C = OffsetArray(fill(0,(k+1,n+1)), 0:k, 0:n)\n",
    "    C[0:k,0] .= 0:k\n",
    "    C[0,0:n] .= 0:n\n",
    "    for i = 1:k, j = 1:n\n",
    "        C[i,j] = min(C[i-1,j]+1,C[i,j-1]+1,C[i-1,j-1]+(s[i] != t[j]))\n",
    "    end\n",
    "    C[k,n]\n",
    "end\n",
    "\n",
    "L2(\"information\",\"organ\")    # example"
   ]
  },
  {
   "cell_type": "code",
   "execution_count": 4,
   "metadata": {},
   "outputs": [
    {
     "data": {
      "text/plain": [
       "(\"information\", \"___orga___n\")"
      ]
     },
     "execution_count": 4,
     "metadata": {},
     "output_type": "execute_result"
    }
   ],
   "source": [
    "# Edit distance: keep trace of modifications\n",
    "\n",
    "using OffsetArrays\n",
    "\n",
    "function modifications(s,t)\n",
    "    n, k = length(s), length(t)\n",
    "    D = OffsetArray(fill(0,(n+1,k+1)), 0:n, 0:k)\n",
    "    D[0:n,0] .= 0:n\n",
    "    D[0,0:k] .= 0:k\n",
    "    for i = 1:n, j = 1:k\n",
    "        D[i,j] = min(D[i-1,j]+1,D[i,j-1]+1,D[i-1,j-1]+(s[i] != t[j]))\n",
    "    end\n",
    "    function f(i,j)\n",
    "        i == 0 && return \"_\"^j, t[1:j]\n",
    "        j == 0 && return s[1:i], \"_\"^i\n",
    "        if D[i,j] == 1 + D[i-1,j]       # delation\n",
    "            a,b = f(i-1,j)\n",
    "            return a*s[i], b*\"_\"\n",
    "        elseif D[i,j] == 1 + D[i,j-1]   # insertion\n",
    "            a,b = f(i,j-1)\n",
    "            return a*\"_\", b*t[j]\n",
    "        else                            # replacement\n",
    "            a,b = f(i-1,j-1)    \n",
    "            return a*s[i], b*t[j]\n",
    "        end    \n",
    "    (a,b)\n",
    "    end\n",
    "    f(n,k)\n",
    "end\n",
    "\n",
    "\n",
    "s,t = \"information\",\"organ\"\n",
    "modifications(s,t)"
   ]
  }
 ],
 "metadata": {
  "kernelspec": {
   "display_name": "Julia 1.5.3",
   "language": "julia",
   "name": "julia-1.5"
  },
  "language_info": {
   "file_extension": ".jl",
   "mimetype": "application/julia",
   "name": "julia",
   "version": "1.5.3"
  }
 },
 "nbformat": 4,
 "nbformat_minor": 4
}
