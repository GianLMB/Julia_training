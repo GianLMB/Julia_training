{
 "cells": [
  {
   "cell_type": "code",
   "execution_count": 2,
   "metadata": {},
   "outputs": [
    {
     "data": {
      "text/plain": [
       "5×5 Array{Int64,2}:\n",
       " 0  1  1  0  1\n",
       " 0  0  0  0  1\n",
       " 0  0  0  0  0\n",
       " 1  0  1  0  0\n",
       " 0  0  1  1  0"
      ]
     },
     "execution_count": 2,
     "metadata": {},
     "output_type": "execute_result"
    }
   ],
   "source": [
    "using LinearAlgebra\n",
    "A = rand(Bool,5,5)\n",
    "A -= Diagonal(A)"
   ]
  },
  {
   "cell_type": "code",
   "execution_count": 3,
   "metadata": {},
   "outputs": [
    {
     "data": {
      "text/plain": [
       "adjlist (generic function with 1 method)"
      ]
     },
     "execution_count": 3,
     "metadata": {},
     "output_type": "execute_result"
    }
   ],
   "source": [
    "# Adjacency list from adjacency matrix\n",
    "\n",
    "function adjlist(A)\n",
    "    @assert size(A,1) == size(A,2)   # if true does nothing, otherwise gives an error\n",
    "    n = size(A,1)\n",
    "    ∂ = Vector{Int}[Int[] for i = 1:n]\n",
    "    for i = 1:n, j = 1:n\n",
    "        if A[i,j] == 1\n",
    "            push!(∂[i],j)\n",
    "        end\n",
    "    end\n",
    "    ∂\n",
    "end"
   ]
  },
  {
   "cell_type": "code",
   "execution_count": 7,
   "metadata": {},
   "outputs": [
    {
     "data": {
      "text/plain": [
       "8-element Array{Int64,1}:\n",
       " 1\n",
       " 1\n",
       " 1\n",
       " 1\n",
       " 1\n",
       " 1\n",
       " 1\n",
       " 1"
      ]
     },
     "execution_count": 7,
     "metadata": {},
     "output_type": "execute_result"
    }
   ],
   "source": [
    "# Sparse matrices\n",
    "\n",
    "using SparseArrays\n",
    "As = sparse(A)\n",
    "As.nzval"
   ]
  },
  {
   "cell_type": "code",
   "execution_count": null,
   "metadata": {},
   "outputs": [],
   "source": [
    "# Definition of max-sum algebras\n",
    "\n",
    "struct SemiRing{T,S,M,Z,O} # T = value, S = sum, M = multiplication, Z = sum_neutral, O = mult_neutral\n",
    "    val::T\n",
    "end\n",
    "\n",
    "const ℝ = SemiRing{Float64, +, *, 0.0, 1.0}\n",
    "const msℝ = SemiRing{Float64, max, +, -Inf, 0.0}\n",
    "\n",
    "Base.:+(x::SemiRing{T,S,M,Z,O}, y::SemiRing{T,S,M,Z,O}) where {T,S,M,Z,O} = SemiRing{T,S,M,Z,O}(S(x.val,y.val))\n",
    "Base.:*(x::SemiRing{T,S,M,Z,O}, y::SemiRing{T,S,M,Z,O}) where {T,S,M,Z,O} = SemiRing{T,S,M,Z,O}(M(x.val,y.val))\n",
    "Base.zero(::Type{SemiRing{T,S,M,Z,O}}) where {T,S,M,Z,O} = SemiRing{T,S,M,Z,O}(Z)\n",
    "Base.one(::Type{SemiRing{T,S,M,Z,O}}) where {T,S,M,Z,O} = SemiRing{T,S,M,Z,O}(O)"
   ]
  }
 ],
 "metadata": {
  "kernelspec": {
   "display_name": "Julia 1.5.3",
   "language": "julia",
   "name": "julia-1.5"
  },
  "language_info": {
   "file_extension": ".jl",
   "mimetype": "application/julia",
   "name": "julia",
   "version": "1.5.3"
  }
 },
 "nbformat": 4,
 "nbformat_minor": 4
}
